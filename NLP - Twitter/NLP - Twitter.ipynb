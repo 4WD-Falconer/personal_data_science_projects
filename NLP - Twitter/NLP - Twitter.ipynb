{
 "cells": [
  {
   "cell_type": "markdown",
   "metadata": {},
   "source": [
    "### Work In Progress"
   ]
  },
  {
   "cell_type": "code",
   "execution_count": 1,
   "metadata": {
    "collapsed": true
   },
   "outputs": [],
   "source": [
    "import tweepy\n",
    "import nltk\n",
    "from nltk.tokenize import TweetTokenizer\n",
    "from nltk.corpus import stopwords\n",
    "import re\n",
    "import string\n",
    "nltk.download('stopwords')\n",
    "\n",
    "consumer_key = ''\n",
    "consumer_secret = ''\n",
    "access_token = ''\n",
    "access_token_secret = ''\n",
    "\n",
    "auth = tweepy.OAuthHandler(consumer_key, consumer_secret)\n",
    "auth.set_access_token(access_token, access_token_secret)\n",
    "api = tweepy.API(auth, wait_on_rate_limit=True)"
   ]
  },
  {
   "cell_type": "code",
   "execution_count": 98,
   "metadata": {
    "collapsed": true
   },
   "outputs": [],
   "source": [
    "def get_clean_tweets(query, max_tweets):\n",
    "    searched_tweets = [tweet for tweet in tweepy.Cursor(api.search, q=query, lang='en').items(max_tweets)]\n",
    "    clean_tweets = []\n",
    "    emoji_uni = list(emoji_dict.keys())\n",
    "    for tweet in searched_tweets:\n",
    "        tweet_text = tweet.text \n",
    "        tweet_low = tweet_text.lower()  \n",
    "        tweet_link = re.sub(r'https\\S+', '', tweet_low) \n",
    "        clean_punc = re.sub(r\"[,.:;'\\\"’“”@#%-?!&$]+\\ *\", '', tweet_link)\n",
    "        clean_rest = re.sub('rt|…', '', clean_punc)\n",
    "        tokenizer = TweetTokenizer()\n",
    "        tokens = tokenizer.tokenize(clean_rest)\n",
    "        clean_stop_words = [w for w in tokens if not w in stopwords.words('english')]\n",
    "        clean_emojis = [x for x in clean_stop_words if not x in emoji_uni]\n",
    "        clean_tweets.append(clean_emojis)\n",
    "    return clean_tweets"
   ]
  },
  {
   "cell_type": "code",
   "execution_count": 99,
   "metadata": {},
   "outputs": [
    {
     "name": "stdout",
     "output_type": "stream",
     "text": [
      "[['hopnationusawrestlemania', 'todayfind', 'beers', 'best', 'embody', 'wwe', 'nxt', 'superstars', 'click'], ['corona', 'limeits', 'fine', 'logoff', 'amplimein', 'extra', 'beer', '🍻', '🍺', '🍹', 'drink', 'drinks', 'slurp', 'toptags', 'pub'], ['hey', 'craftbrew', 'enthusiastsoutdoors', 'peopletravelersnext', 'time', 'go', 'jasper', 'strongly', 'recommend', 'stop'], ['cheers', 'sundayfunday', 'drinklocal', 'craftbeer', 'kokopellibeerco'], ['sunday', 'weve', 'got', 'free', 'live', 'music', 'brewery', 'tonightcome', 'join', 'us', 'pm', 'enjoy', 'musical', 'eveni'], ['dubcentralreally', 'enjoyed', 'lemon', 'sour', 'thewhitehag', 'picked', 'brilliant', 'weebeershop', 'glasgow', 'craftbeer'], ['mommycampbelli', 'pose', 'flights', 'wife', 'thinks', 'im', 'dorkbut', 'think', 'im', 'cool', 'rightnationalbeerday', 'still', 'going', 'fo'], ['npattersonafter', 'couple', 'weeks', 'aging', 'last', 'postbrown', 'ale', 'headed', 'brite', 'tank', 'one', 'day', 'closer', 'making'], ['stonebrewing', 'pa', 'stone', 'brewing', 'seasonal', 'hop', 'worship', 'seriesthis', 'spring', 'ipa', 'features', 'loral', 'citra', 'hops'], ['peskycostly', 'life', 'stray', 'beer', 'kegs'], ['bristolianstoutboth', 'raspberry', 'cherry', 'versions', 'quad', 'great', 'stuffnmbco', 'craftbeer'], ['stonebrewing', 'pa', 'stone', 'brewing', 'seasonal', 'hop', 'worship', 'seriesthis', 'spring', 'ipa', 'features', 'loral', 'citra', 'hops'], ['dubcentralreally', 'enjoyed', 'lemon', 'sour', 'thewhitehag', 'picked', 'brilliant', 'weebeershop', 'glasgow', 'craftbeer'], ['really', 'enjoyed', 'lemon', 'sour', 'thewhitehag', 'picked', 'brilliant', 'weebeershop', 'glasgow', 'craftbeer'], ['save', 'datetwinpanzee', 'april', 'th', 'dcand', 'rocheonair', 'loudouncounty', 'sterling', 'thursday'], ['craftbeer', 'drinking', 'saranac', 'cold', 'brew', 'coffee', 'lager', 'saranacbrewery', 'zippys', 'homebrew', 'lbc', '—'], ['mommycampbelli', 'pose', 'flights', 'wife', 'thinks', 'im', 'dorkbut', 'think', 'im', 'cool', 'rightnationalbeerday', 'still', 'going', 'fo'], ['craftbeer', 'drinking', 'exalted', 'ipa', 'stonebrewing', 'photo'], ['mommycampbelli', 'pose', 'flights', 'wife', 'thinks', 'im', 'dorkbut', 'think', 'im', 'cool', 'rightnationalbeerday', 'still', 'going', 'fo'], ['mondaynight', 'drrobot', 'blackberry', 'lemon', 'sourcraftbeer'], ['pose', 'flights', 'wife', 'thinks', 'im', 'dorkbut', 'think', 'im', 'cool', 'rightnationalbeerday', 'still', 'going'], ['reviewedstone', 'enjoy', 'ipa', 'beer', 'craftbeer'], ['beerpediawynwood', 'octopus', 'wall', 'beerpedia', 'wynwoodbrewing', 'strongale', 'citra', 'mosaic', 'amarillo', 'beerbl'], ['enjoying', 'nice', 'little', 'sunday', 'stocking', 'hoofheaedbrew', 'konkeydong', 'wangbar', 'craftbeer', 'nationalbeerday'], ['thank', 'maha', 'ampmauriemany', 'years', 'suppo', 'giving', 'mahas', 'hot', 'mustardthe', 'greatestpotosibeer'], ['butcherschoice', 'pieology', 'twohenrysbeer', 'jamesonssteamboat', 'coffee', 'brown', 'ale', 'cuz', 'let', 'hang'], ['looking', 'experienced', 'warehouse', 'techtag', 'friend', 'email', 'jobsthreeweaversla', 'apply', 'todaysee'], ['garrettmaltreally', 'nice', 'afternoon', 'spent', 'ballykilcavan', 'farm', 'brewery', 'todaythanks', 'david', 'team', 'hosting', 'everyone', 'tod'], ['galacticbrewjoin', 'us', 'annualyuris', 'night', 'celebration', 'san', 'diego', 'space', 'society', 'special', 'speakerstrivia', 'tab'], ['great', 'times', 'moderntimesbeer', 'usualthanks', 'tourcraftbeer', 'ccba'], ['nice', 'rich', 'poehick', 'mouthfeelslight', 'hint', 'chocolatenot', 'quite', 'wohy', 'starsbut', 'solid', 'poe'], ['beerandbrewrightbest', 'get', 'staedpillarsbrewery', 'ewalthamstow', 'lager', 'craftbeer', 'chocolate', 'orange', 'thelagerexperiment'], ['supermoviepodep', 'jay', 'awkward', 'first', 'datereturn', 'indiecorner', 'review', 'readyplayerone', 'news', 'xmendarkphoenix', 'ampnew'], ['sunday', 'funday', 'family', 'lifegoals', 'sundayfunday', 'germanbeer', 'britishbeer', 'craftbeer'], ['get', 'knowbottlelogicbrews', 'lindsay', 'langton', 'via', 'orangecoastmag', 'craftbeer', '🍺'], ['asbeercansand', 'pick', 'would', 'beerbeeroclock', 'craftbeer', 'sandiego', 'drink', 'drinks', 'drinking', 'humor', 'http'], ['tonight', 'newhelvetiabrew', 'sacramento', 'craftbeer', 'foodtruck', 'sausage', 'chicken', 'seafood', 'poboys'], ['combining', 'ginger', 'beer', 'outer', 'space', 'gives', 'interstellargbc', 'unique', 'vibe', 'alabasteweethomealaread'], ['superbcraftbeer', 'ale', 'bournemouth'], ['family', 'appeari', 'break', 'good', 'beerbrewdog', 'craftbeer', 'craftbeernotcrapbeer'], ['thin', 'tan', 'head', 'black', 'body', 'chocolate', 'aroma', 'ampflavor', 'smooth', 'syrupy', 'hints', 'vanilla', 'queens', 'craftbeer', 'drinking'], ['latest', 'issue', 'mexican', 'craftis', 'onlinecheck', 'new', 'craftbeer', 'travel', 'guides', 'oaxaca', 'mexico', 'city'], ['draft', 'beer', 'choices', 'great', 'food', 'das', 'pool', 'kingstablellc', 'beavercreekohio', '~', 'craftbeer', 'placesgo'], ['pizza', 'sunday', 'today', 'means', 'pizzas', 'special', 'pair', 'pizza', 'pint'], ['craftbeer', 'dammit', 'rory'], ['whatever', 'happened', 'sixpoint', 'chicago', 'marketcant', 'recall', 'seeing', 'anything', 'monthscraftbeer'], ['innovationbrewing', 'first', 'time', 'herecraftbeer', 'calpolypomona', 'innovation', 'brew', 'works'], ['bearislandbeerwe', 'building', 'wall', 'ampwant', 'join', 'usget', 'brick', 'todaybearme', 'boisesbiggestlittlebrewery', 'firehouse'], ['hill', 'country', 'peach', 'wheat', 'shinerbeer', 'brewers', 'pride', 'selection', '🍑', '👍', '🏽', 'craftbeer', 'instabeer'], ['wanting', 'come', 'longfinally', 'made', 'happen', '🍻', 'comradebrewing', 'cheers', 'coloradobeer', 'craftbeer']]\n"
     ]
    }
   ],
   "source": [
    "data = get_clean_tweets('craftbeer', 50)\n",
    "print(data[:50])"
   ]
  },
  {
   "cell_type": "code",
   "execution_count": 100,
   "metadata": {},
   "outputs": [
    {
     "data": {
      "text/plain": [
       "[('craftbeer', 21),\n",
       " ('im', 8),\n",
       " ('beer', 5),\n",
       " ('sunday', 4),\n",
       " ('lemon', 4),\n",
       " ('pose', 4),\n",
       " ('flights', 4),\n",
       " ('wife', 4),\n",
       " ('thinks', 4),\n",
       " ('dorkbut', 4),\n",
       " ('think', 4),\n",
       " ('cool', 4),\n",
       " ('rightnationalbeerday', 4),\n",
       " ('still', 4),\n",
       " ('going', 4),\n",
       " ('ipa', 4),\n",
       " ('drinking', 4),\n",
       " ('enjoyed', 3),\n",
       " ('sour', 3),\n",
       " ('thewhitehag', 3),\n",
       " ('picked', 3),\n",
       " ('brilliant', 3),\n",
       " ('weebeershop', 3),\n",
       " ('glasgow', 3),\n",
       " ('mommycampbelli', 3)]"
      ]
     },
     "execution_count": 100,
     "metadata": {},
     "output_type": "execute_result"
    }
   ],
   "source": [
    "import collections\n",
    "\n",
    "data = [item for sublist in data for item in sublist]\n",
    "counter=collections.Counter(data)\n",
    "sorted_words = sorted(counter.items(), key=lambda x:x[1], reverse=True)\n",
    "sorted_words[:25]"
   ]
  }
 ],
 "metadata": {
  "kernelspec": {
   "display_name": "Python 3",
   "language": "python",
   "name": "python3"
  },
  "language_info": {
   "codemirror_mode": {
    "name": "ipython",
    "version": 3
   },
   "file_extension": ".py",
   "mimetype": "text/x-python",
   "name": "python",
   "nbconvert_exporter": "python",
   "pygments_lexer": "ipython3",
   "version": "3.6.3"
  }
 },
 "nbformat": 4,
 "nbformat_minor": 2
}
