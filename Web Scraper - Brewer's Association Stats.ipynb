{
 "cells": [
  {
   "cell_type": "markdown",
   "metadata": {},
   "source": [
    "### Craft Beer Stats by State - 2016\n",
    "\n",
    "Scraping the craft beer produced (bbls) and craft beer gallons consumed per adult by state for 2016 from the Brewer's Association website\n",
    "\n",
    "Working as of 4/1/18"
   ]
  },
  {
   "cell_type": "code",
   "execution_count": 2,
   "metadata": {},
   "outputs": [],
   "source": [
    "import requests\n",
    "from bs4 import BeautifulSoup\n",
    "import pandas as pd\n",
    "\n",
    "url = 'https://www.brewersassociation.org/statistics/by-state/'\n",
    "resp = requests.get(url)\n",
    "site = resp.content\n",
    "soup = BeautifulSoup(site, 'html.parser')"
   ]
  },
  {
   "cell_type": "code",
   "execution_count": 3,
   "metadata": {},
   "outputs": [
    {
     "data": {
      "text/plain": [
       "'Brewers Association'"
      ]
     },
     "execution_count": 3,
     "metadata": {},
     "output_type": "execute_result"
    }
   ],
   "source": [
    "soup.h1.text"
   ]
  },
  {
   "cell_type": "code",
   "execution_count": 4,
   "metadata": {},
   "outputs": [
    {
     "name": "stdout",
     "output_type": "stream",
     "text": [
      "['Alabama', 'Alaska', 'Arizona', 'Arkansas', 'California']\n",
      "['0.5', '12.5', '0.9', '0.5', '3.7']\n",
      "['61,042', '207,369', '147,255', '35,846', '3,295,221']\n"
     ]
    }
   ],
   "source": [
    "temp_dict = {}\n",
    "states = []\n",
    "consumed = []\n",
    "craft_barr_produced = []\n",
    "\n",
    "for state_name in soup.findAll('div', {'id':'state-header'}):\n",
    "    states.append(state_name.h1.text)\n",
    "\n",
    "div_tag = soup.findAll('div', {'id': 'production'})\n",
    "\n",
    "for tag in div_tag:\n",
    "    per_cap = tag.find('span', {'class': 'per-capita'})\n",
    "    count = per_cap.find('span', {'class': 'count'})\n",
    "    consumed.append(count.text)\n",
    "    total = tag.find('span', {'class': 'total'})\n",
    "    produced = total.find('span', {'class': 'count'})\n",
    "    craft_barr_produced.append(produced.text)\n",
    "    \n",
    "temp_dict['state'] = states\n",
    "temp_dict['craft_gal_per_adult'] = consumed\n",
    "temp_dict['craft_barr_produced'] = craft_barr_produced\n",
    "\n",
    "print(temp_dict['state'][:5])\n",
    "print(temp_dict['craft_gal_per_adult'][:5])\n",
    "print(temp_dict['craft_barr_produced'][:5])"
   ]
  },
  {
   "cell_type": "code",
   "execution_count": 6,
   "metadata": {},
   "outputs": [
    {
     "data": {
      "text/html": [
       "<div>\n",
       "<style>\n",
       "    .dataframe thead tr:only-child th {\n",
       "        text-align: right;\n",
       "    }\n",
       "\n",
       "    .dataframe thead th {\n",
       "        text-align: left;\n",
       "    }\n",
       "\n",
       "    .dataframe tbody tr th {\n",
       "        vertical-align: top;\n",
       "    }\n",
       "</style>\n",
       "<table border=\"1\" class=\"dataframe\">\n",
       "  <thead>\n",
       "    <tr style=\"text-align: right;\">\n",
       "      <th></th>\n",
       "      <th>craft_barr_produced</th>\n",
       "      <th>craft_gal_per_adult</th>\n",
       "      <th>state</th>\n",
       "    </tr>\n",
       "  </thead>\n",
       "  <tbody>\n",
       "    <tr>\n",
       "      <th>0</th>\n",
       "      <td>61,042</td>\n",
       "      <td>0.5</td>\n",
       "      <td>Alabama</td>\n",
       "    </tr>\n",
       "    <tr>\n",
       "      <th>1</th>\n",
       "      <td>207,369</td>\n",
       "      <td>12.5</td>\n",
       "      <td>Alaska</td>\n",
       "    </tr>\n",
       "    <tr>\n",
       "      <th>2</th>\n",
       "      <td>147,255</td>\n",
       "      <td>0.9</td>\n",
       "      <td>Arizona</td>\n",
       "    </tr>\n",
       "    <tr>\n",
       "      <th>3</th>\n",
       "      <td>35,846</td>\n",
       "      <td>0.5</td>\n",
       "      <td>Arkansas</td>\n",
       "    </tr>\n",
       "    <tr>\n",
       "      <th>4</th>\n",
       "      <td>3,295,221</td>\n",
       "      <td>3.7</td>\n",
       "      <td>California</td>\n",
       "    </tr>\n",
       "  </tbody>\n",
       "</table>\n",
       "</div>"
      ],
      "text/plain": [
       "  craft_barr_produced craft_gal_per_adult       state\n",
       "0              61,042                 0.5     Alabama\n",
       "1             207,369                12.5      Alaska\n",
       "2             147,255                 0.9     Arizona\n",
       "3              35,846                 0.5    Arkansas\n",
       "4           3,295,221                 3.7  California"
      ]
     },
     "execution_count": 6,
     "metadata": {},
     "output_type": "execute_result"
    }
   ],
   "source": [
    "#Putting the data into a data frame\n",
    "df = pd.DataFrame(temp_dict)\n",
    "df.head()"
   ]
  },
  {
   "cell_type": "code",
   "execution_count": 7,
   "metadata": {
    "collapsed": true
   },
   "outputs": [],
   "source": [
    "#Saving the data as a csv\n",
    "df.to_csv('craft_state_stats.csv')"
   ]
  }
 ],
 "metadata": {
  "kernelspec": {
   "display_name": "Python 3",
   "language": "python",
   "name": "python3"
  },
  "language_info": {
   "codemirror_mode": {
    "name": "ipython",
    "version": 3
   },
   "file_extension": ".py",
   "mimetype": "text/x-python",
   "name": "python",
   "nbconvert_exporter": "python",
   "pygments_lexer": "ipython3",
   "version": "3.6.3"
  }
 },
 "nbformat": 4,
 "nbformat_minor": 2
}
