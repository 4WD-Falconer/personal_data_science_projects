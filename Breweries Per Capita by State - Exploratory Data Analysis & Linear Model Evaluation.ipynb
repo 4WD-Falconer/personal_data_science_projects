{
 "cells": [
  {
   "cell_type": "markdown",
   "metadata": {},
   "source": [
    "### Evaluating a Linear Regression Model for Predicting a State's Breweries Per Capita\n",
    "\n",
    "With the growth of craft beer has come a growth in new breweries. The number of breweries in the US have increased +286% in just the past 10 years (2016 vs 2006) and +410% in the past 20 years. The growth doesn't seem to be slowing down either, with 2016 up +18% in the number of breweries in the US compared to 2015.\n",
    "\n",
    "In this notebook I'll use the data I've collected in a linear regression model to see if it is a good predictor of the number of breweries a state has.\n",
    "\n",
    "To account for the different populations for each state, I'll be using breweries per capita (per 100K adults) as the dependent variable. The independent variables I've collected to try and predict the breweries per capita (BPC) by state include age, race, median hhi, craft gallons consumed per adult and barrels of craft beer produced.\n",
    "\n",
    "As a reminder, the age and race data is in percentages, the median hhi data is in full dollar amounts, craft gallons per adult is the average per adult and breweries per capita (BPC) is the average per 100K adults\n",
    "\n",
    "In this notebook:\n",
    "1. Exploratory data anlaysis\n",
    "\n",
    "2. Feature selection\n",
    "    \n",
    "3. Additional data prep\n",
    "    \n",
    "4. Linear regression model\n",
    "\n",
    "5. Conclusion and next steps"
   ]
  },
  {
   "cell_type": "code",
   "execution_count": 67,
   "metadata": {},
   "outputs": [
    {
     "data": {
      "text/html": [
       "<div>\n",
       "<style>\n",
       "    .dataframe thead tr:only-child th {\n",
       "        text-align: right;\n",
       "    }\n",
       "\n",
       "    .dataframe thead th {\n",
       "        text-align: left;\n",
       "    }\n",
       "\n",
       "    .dataframe tbody tr th {\n",
       "        vertical-align: top;\n",
       "    }\n",
       "</style>\n",
       "<table border=\"1\" class=\"dataframe\">\n",
       "  <thead>\n",
       "    <tr style=\"text-align: right;\">\n",
       "      <th></th>\n",
       "      <th>Location</th>\n",
       "      <th>kids_0_18</th>\n",
       "      <th>adults_19_25</th>\n",
       "      <th>adults_26_34</th>\n",
       "      <th>adults_35_54</th>\n",
       "      <th>adults_55_64</th>\n",
       "      <th>adults_over_65</th>\n",
       "      <th>white</th>\n",
       "      <th>black</th>\n",
       "      <th>hispanic</th>\n",
       "      <th>asian</th>\n",
       "      <th>amer_ind_ak</th>\n",
       "      <th>nat_haw_pac_is</th>\n",
       "      <th>two_or_more_r</th>\n",
       "      <th>median_hhi</th>\n",
       "      <th>craft_barr_produced</th>\n",
       "      <th>craft_gal_per_adult</th>\n",
       "      <th>b_per_capita</th>\n",
       "    </tr>\n",
       "  </thead>\n",
       "  <tbody>\n",
       "    <tr>\n",
       "      <th>0</th>\n",
       "      <td>AK</td>\n",
       "      <td>0.283</td>\n",
       "      <td>0.095</td>\n",
       "      <td>0.152</td>\n",
       "      <td>0.233</td>\n",
       "      <td>0.119</td>\n",
       "      <td>0.118</td>\n",
       "      <td>0.598</td>\n",
       "      <td>0.028</td>\n",
       "      <td>0.066</td>\n",
       "      <td>0.050</td>\n",
       "      <td>0.166</td>\n",
       "      <td>0.022</td>\n",
       "      <td>0.069</td>\n",
       "      <td>75723.000</td>\n",
       "      <td>207369.000</td>\n",
       "      <td>12.500</td>\n",
       "      <td>7.069</td>\n",
       "    </tr>\n",
       "    <tr>\n",
       "      <th>1</th>\n",
       "      <td>AL</td>\n",
       "      <td>0.239</td>\n",
       "      <td>0.093</td>\n",
       "      <td>0.112</td>\n",
       "      <td>0.258</td>\n",
       "      <td>0.141</td>\n",
       "      <td>0.157</td>\n",
       "      <td>0.673</td>\n",
       "      <td>0.274</td>\n",
       "      <td>0.041</td>\n",
       "      <td>0.000</td>\n",
       "      <td>0.000</td>\n",
       "      <td>0.000</td>\n",
       "      <td>0.012</td>\n",
       "      <td>47221.000</td>\n",
       "      <td>61042.000</td>\n",
       "      <td>0.500</td>\n",
       "      <td>1.006</td>\n",
       "    </tr>\n",
       "    <tr>\n",
       "      <th>2</th>\n",
       "      <td>AR</td>\n",
       "      <td>0.252</td>\n",
       "      <td>0.092</td>\n",
       "      <td>0.118</td>\n",
       "      <td>0.252</td>\n",
       "      <td>0.123</td>\n",
       "      <td>0.164</td>\n",
       "      <td>0.740</td>\n",
       "      <td>0.158</td>\n",
       "      <td>0.072</td>\n",
       "      <td>0.000</td>\n",
       "      <td>0.008</td>\n",
       "      <td>0.000</td>\n",
       "      <td>0.022</td>\n",
       "      <td>45907.000</td>\n",
       "      <td>35846.000</td>\n",
       "      <td>0.500</td>\n",
       "      <td>1.543</td>\n",
       "    </tr>\n",
       "    <tr>\n",
       "      <th>3</th>\n",
       "      <td>AZ</td>\n",
       "      <td>0.249</td>\n",
       "      <td>0.102</td>\n",
       "      <td>0.108</td>\n",
       "      <td>0.256</td>\n",
       "      <td>0.124</td>\n",
       "      <td>0.162</td>\n",
       "      <td>0.544</td>\n",
       "      <td>0.045</td>\n",
       "      <td>0.347</td>\n",
       "      <td>0.033</td>\n",
       "      <td>0.020</td>\n",
       "      <td>0.000</td>\n",
       "      <td>0.012</td>\n",
       "      <td>57100.000</td>\n",
       "      <td>147255.000</td>\n",
       "      <td>0.900</td>\n",
       "      <td>2.126</td>\n",
       "    </tr>\n",
       "    <tr>\n",
       "      <th>4</th>\n",
       "      <td>CA</td>\n",
       "      <td>0.247</td>\n",
       "      <td>0.098</td>\n",
       "      <td>0.129</td>\n",
       "      <td>0.265</td>\n",
       "      <td>0.123</td>\n",
       "      <td>0.138</td>\n",
       "      <td>0.379</td>\n",
       "      <td>0.054</td>\n",
       "      <td>0.386</td>\n",
       "      <td>0.148</td>\n",
       "      <td>0.005</td>\n",
       "      <td>0.006</td>\n",
       "      <td>0.022</td>\n",
       "      <td>66637.000</td>\n",
       "      <td>3295221.000</td>\n",
       "      <td>3.700</td>\n",
       "      <td>3.141</td>\n",
       "    </tr>\n",
       "  </tbody>\n",
       "</table>\n",
       "</div>"
      ],
      "text/plain": [
       "  Location  kids_0_18  adults_19_25  adults_26_34  adults_35_54  adults_55_64  \\\n",
       "0       AK      0.283         0.095         0.152         0.233         0.119   \n",
       "1       AL      0.239         0.093         0.112         0.258         0.141   \n",
       "2       AR      0.252         0.092         0.118         0.252         0.123   \n",
       "3       AZ      0.249         0.102         0.108         0.256         0.124   \n",
       "4       CA      0.247         0.098         0.129         0.265         0.123   \n",
       "\n",
       "   adults_over_65  white  black  hispanic  asian  amer_ind_ak  nat_haw_pac_is  \\\n",
       "0           0.118  0.598  0.028     0.066  0.050        0.166           0.022   \n",
       "1           0.157  0.673  0.274     0.041  0.000        0.000           0.000   \n",
       "2           0.164  0.740  0.158     0.072  0.000        0.008           0.000   \n",
       "3           0.162  0.544  0.045     0.347  0.033        0.020           0.000   \n",
       "4           0.138  0.379  0.054     0.386  0.148        0.005           0.006   \n",
       "\n",
       "   two_or_more_r  median_hhi  craft_barr_produced  craft_gal_per_adult  \\\n",
       "0          0.069   75723.000           207369.000               12.500   \n",
       "1          0.012   47221.000            61042.000                0.500   \n",
       "2          0.022   45907.000            35846.000                0.500   \n",
       "3          0.012   57100.000           147255.000                0.900   \n",
       "4          0.022   66637.000          3295221.000                3.700   \n",
       "\n",
       "   b_per_capita  \n",
       "0         7.069  \n",
       "1         1.006  \n",
       "2         1.543  \n",
       "3         2.126  \n",
       "4         3.141  "
      ]
     },
     "execution_count": 67,
     "metadata": {},
     "output_type": "execute_result"
    }
   ],
   "source": [
    "import pandas as pd\n",
    "from IPython.display import display\n",
    "pd.set_option('display.float_format', lambda x: '%.3f' % x)\n",
    "\n",
    "f = open('brew_data_prepped.csv', 'r')\n",
    "df = pd.read_csv(f)\n",
    "df = df.drop(df.columns[0], axis=1)\n",
    "          \n",
    "df.head()"
   ]
  },
  {
   "cell_type": "markdown",
   "metadata": {},
   "source": [
    "Descriptive statistics for age by state"
   ]
  },
  {
   "cell_type": "code",
   "execution_count": 68,
   "metadata": {},
   "outputs": [
    {
     "data": {
      "text/html": [
       "<div>\n",
       "<style>\n",
       "    .dataframe thead tr:only-child th {\n",
       "        text-align: right;\n",
       "    }\n",
       "\n",
       "    .dataframe thead th {\n",
       "        text-align: left;\n",
       "    }\n",
       "\n",
       "    .dataframe tbody tr th {\n",
       "        vertical-align: top;\n",
       "    }\n",
       "</style>\n",
       "<table border=\"1\" class=\"dataframe\">\n",
       "  <thead>\n",
       "    <tr style=\"text-align: right;\">\n",
       "      <th></th>\n",
       "      <th>kids_0_18</th>\n",
       "      <th>adults_19_25</th>\n",
       "      <th>adults_26_34</th>\n",
       "      <th>adults_35_54</th>\n",
       "      <th>adults_55_64</th>\n",
       "      <th>adults_over_65</th>\n",
       "    </tr>\n",
       "  </thead>\n",
       "  <tbody>\n",
       "    <tr>\n",
       "      <th>count</th>\n",
       "      <td>51.000</td>\n",
       "      <td>51.000</td>\n",
       "      <td>51.000</td>\n",
       "      <td>51.000</td>\n",
       "      <td>51.000</td>\n",
       "      <td>51.000</td>\n",
       "    </tr>\n",
       "    <tr>\n",
       "      <th>mean</th>\n",
       "      <td>0.243</td>\n",
       "      <td>0.092</td>\n",
       "      <td>0.123</td>\n",
       "      <td>0.252</td>\n",
       "      <td>0.132</td>\n",
       "      <td>0.157</td>\n",
       "    </tr>\n",
       "    <tr>\n",
       "      <th>std</th>\n",
       "      <td>0.023</td>\n",
       "      <td>0.007</td>\n",
       "      <td>0.018</td>\n",
       "      <td>0.012</td>\n",
       "      <td>0.013</td>\n",
       "      <td>0.017</td>\n",
       "    </tr>\n",
       "    <tr>\n",
       "      <th>min</th>\n",
       "      <td>0.186</td>\n",
       "      <td>0.077</td>\n",
       "      <td>0.097</td>\n",
       "      <td>0.221</td>\n",
       "      <td>0.092</td>\n",
       "      <td>0.112</td>\n",
       "    </tr>\n",
       "    <tr>\n",
       "      <th>25%</th>\n",
       "      <td>0.228</td>\n",
       "      <td>0.088</td>\n",
       "      <td>0.113</td>\n",
       "      <td>0.245</td>\n",
       "      <td>0.126</td>\n",
       "      <td>0.148</td>\n",
       "    </tr>\n",
       "    <tr>\n",
       "      <th>50%</th>\n",
       "      <td>0.243</td>\n",
       "      <td>0.092</td>\n",
       "      <td>0.121</td>\n",
       "      <td>0.254</td>\n",
       "      <td>0.133</td>\n",
       "      <td>0.157</td>\n",
       "    </tr>\n",
       "    <tr>\n",
       "      <th>75%</th>\n",
       "      <td>0.256</td>\n",
       "      <td>0.096</td>\n",
       "      <td>0.128</td>\n",
       "      <td>0.258</td>\n",
       "      <td>0.139</td>\n",
       "      <td>0.168</td>\n",
       "    </tr>\n",
       "    <tr>\n",
       "      <th>max</th>\n",
       "      <td>0.313</td>\n",
       "      <td>0.116</td>\n",
       "      <td>0.220</td>\n",
       "      <td>0.283</td>\n",
       "      <td>0.161</td>\n",
       "      <td>0.191</td>\n",
       "    </tr>\n",
       "  </tbody>\n",
       "</table>\n",
       "</div>"
      ],
      "text/plain": [
       "       kids_0_18  adults_19_25  adults_26_34  adults_35_54  adults_55_64  \\\n",
       "count     51.000        51.000        51.000        51.000        51.000   \n",
       "mean       0.243         0.092         0.123         0.252         0.132   \n",
       "std        0.023         0.007         0.018         0.012         0.013   \n",
       "min        0.186         0.077         0.097         0.221         0.092   \n",
       "25%        0.228         0.088         0.113         0.245         0.126   \n",
       "50%        0.243         0.092         0.121         0.254         0.133   \n",
       "75%        0.256         0.096         0.128         0.258         0.139   \n",
       "max        0.313         0.116         0.220         0.283         0.161   \n",
       "\n",
       "       adults_over_65  \n",
       "count          51.000  \n",
       "mean            0.157  \n",
       "std             0.017  \n",
       "min             0.112  \n",
       "25%             0.148  \n",
       "50%             0.157  \n",
       "75%             0.168  \n",
       "max             0.191  "
      ]
     },
     "execution_count": 68,
     "metadata": {},
     "output_type": "execute_result"
    }
   ],
   "source": [
    "df.iloc[:, 1:7].describe()"
   ]
  },
  {
   "cell_type": "markdown",
   "metadata": {},
   "source": [
    "Descriptive statistics for the rest"
   ]
  },
  {
   "cell_type": "code",
   "execution_count": 69,
   "metadata": {},
   "outputs": [
    {
     "data": {
      "text/html": [
       "<div>\n",
       "<style>\n",
       "    .dataframe thead tr:only-child th {\n",
       "        text-align: right;\n",
       "    }\n",
       "\n",
       "    .dataframe thead th {\n",
       "        text-align: left;\n",
       "    }\n",
       "\n",
       "    .dataframe tbody tr th {\n",
       "        vertical-align: top;\n",
       "    }\n",
       "</style>\n",
       "<table border=\"1\" class=\"dataframe\">\n",
       "  <thead>\n",
       "    <tr style=\"text-align: right;\">\n",
       "      <th></th>\n",
       "      <th>white</th>\n",
       "      <th>black</th>\n",
       "      <th>hispanic</th>\n",
       "      <th>asian</th>\n",
       "      <th>amer_ind_ak</th>\n",
       "      <th>nat_haw_pac_is</th>\n",
       "      <th>two_or_more_r</th>\n",
       "      <th>median_hhi</th>\n",
       "      <th>craft_barr_produced</th>\n",
       "      <th>craft_gal_per_adult</th>\n",
       "      <th>b_per_capita</th>\n",
       "    </tr>\n",
       "  </thead>\n",
       "  <tbody>\n",
       "    <tr>\n",
       "      <th>count</th>\n",
       "      <td>51.000</td>\n",
       "      <td>51.000</td>\n",
       "      <td>51.000</td>\n",
       "      <td>51.000</td>\n",
       "      <td>51.000</td>\n",
       "      <td>51.000</td>\n",
       "      <td>51.000</td>\n",
       "      <td>51.000</td>\n",
       "      <td>51.000</td>\n",
       "      <td>51.000</td>\n",
       "      <td>51.000</td>\n",
       "    </tr>\n",
       "    <tr>\n",
       "      <th>mean</th>\n",
       "      <td>0.694</td>\n",
       "      <td>0.110</td>\n",
       "      <td>0.122</td>\n",
       "      <td>0.040</td>\n",
       "      <td>0.007</td>\n",
       "      <td>0.004</td>\n",
       "      <td>0.022</td>\n",
       "      <td>59179.000</td>\n",
       "      <td>481690.745</td>\n",
       "      <td>3.567</td>\n",
       "      <td>3.756</td>\n",
       "    </tr>\n",
       "    <tr>\n",
       "      <th>std</th>\n",
       "      <td>0.166</td>\n",
       "      <td>0.106</td>\n",
       "      <td>0.106</td>\n",
       "      <td>0.059</td>\n",
       "      <td>0.026</td>\n",
       "      <td>0.024</td>\n",
       "      <td>0.021</td>\n",
       "      <td>9062.874</td>\n",
       "      <td>760301.884</td>\n",
       "      <td>4.171</td>\n",
       "      <td>2.948</td>\n",
       "    </tr>\n",
       "    <tr>\n",
       "      <th>min</th>\n",
       "      <td>0.192</td>\n",
       "      <td>0.007</td>\n",
       "      <td>0.010</td>\n",
       "      <td>0.000</td>\n",
       "      <td>0.000</td>\n",
       "      <td>0.000</td>\n",
       "      <td>0.000</td>\n",
       "      <td>41099.000</td>\n",
       "      <td>10029.000</td>\n",
       "      <td>0.300</td>\n",
       "      <td>0.642</td>\n",
       "    </tr>\n",
       "    <tr>\n",
       "      <th>25%</th>\n",
       "      <td>0.587</td>\n",
       "      <td>0.032</td>\n",
       "      <td>0.052</td>\n",
       "      <td>0.011</td>\n",
       "      <td>0.000</td>\n",
       "      <td>0.000</td>\n",
       "      <td>0.013</td>\n",
       "      <td>53874.500</td>\n",
       "      <td>56935.000</td>\n",
       "      <td>0.950</td>\n",
       "      <td>1.890</td>\n",
       "    </tr>\n",
       "    <tr>\n",
       "      <th>50%</th>\n",
       "      <td>0.719</td>\n",
       "      <td>0.075</td>\n",
       "      <td>0.099</td>\n",
       "      <td>0.027</td>\n",
       "      <td>0.000</td>\n",
       "      <td>0.000</td>\n",
       "      <td>0.020</td>\n",
       "      <td>58046.000</td>\n",
       "      <td>207369.000</td>\n",
       "      <td>1.900</td>\n",
       "      <td>2.720</td>\n",
       "    </tr>\n",
       "    <tr>\n",
       "      <th>75%</th>\n",
       "      <td>0.808</td>\n",
       "      <td>0.146</td>\n",
       "      <td>0.146</td>\n",
       "      <td>0.046</td>\n",
       "      <td>0.000</td>\n",
       "      <td>0.000</td>\n",
       "      <td>0.025</td>\n",
       "      <td>66544.000</td>\n",
       "      <td>538342.500</td>\n",
       "      <td>3.750</td>\n",
       "      <td>4.518</td>\n",
       "    </tr>\n",
       "    <tr>\n",
       "      <th>max</th>\n",
       "      <td>0.955</td>\n",
       "      <td>0.459</td>\n",
       "      <td>0.533</td>\n",
       "      <td>0.387</td>\n",
       "      <td>0.166</td>\n",
       "      <td>0.171</td>\n",
       "      <td>0.138</td>\n",
       "      <td>76260.000</td>\n",
       "      <td>3905620.000</td>\n",
       "      <td>19.800</td>\n",
       "      <td>14.862</td>\n",
       "    </tr>\n",
       "  </tbody>\n",
       "</table>\n",
       "</div>"
      ],
      "text/plain": [
       "       white  black  hispanic  asian  amer_ind_ak  nat_haw_pac_is  \\\n",
       "count 51.000 51.000    51.000 51.000       51.000          51.000   \n",
       "mean   0.694  0.110     0.122  0.040        0.007           0.004   \n",
       "std    0.166  0.106     0.106  0.059        0.026           0.024   \n",
       "min    0.192  0.007     0.010  0.000        0.000           0.000   \n",
       "25%    0.587  0.032     0.052  0.011        0.000           0.000   \n",
       "50%    0.719  0.075     0.099  0.027        0.000           0.000   \n",
       "75%    0.808  0.146     0.146  0.046        0.000           0.000   \n",
       "max    0.955  0.459     0.533  0.387        0.166           0.171   \n",
       "\n",
       "       two_or_more_r  median_hhi  craft_barr_produced  craft_gal_per_adult  \\\n",
       "count         51.000      51.000               51.000               51.000   \n",
       "mean           0.022   59179.000           481690.745                3.567   \n",
       "std            0.021    9062.874           760301.884                4.171   \n",
       "min            0.000   41099.000            10029.000                0.300   \n",
       "25%            0.013   53874.500            56935.000                0.950   \n",
       "50%            0.020   58046.000           207369.000                1.900   \n",
       "75%            0.025   66544.000           538342.500                3.750   \n",
       "max            0.138   76260.000          3905620.000               19.800   \n",
       "\n",
       "       b_per_capita  \n",
       "count        51.000  \n",
       "mean          3.756  \n",
       "std           2.948  \n",
       "min           0.642  \n",
       "25%           1.890  \n",
       "50%           2.720  \n",
       "75%           4.518  \n",
       "max          14.862  "
      ]
     },
     "execution_count": 69,
     "metadata": {},
     "output_type": "execute_result"
    }
   ],
   "source": [
    "df.iloc[:, 7:].describe()"
   ]
  },
  {
   "cell_type": "markdown",
   "metadata": {},
   "source": [
    "BPC by state in 2016 bar graph"
   ]
  },
  {
   "cell_type": "code",
   "execution_count": 70,
   "metadata": {},
   "outputs": [
    {
     "data": {
      "image/png": "[encoded data removed]",
      "text/plain": [
       "<matplotlib.figure.Figure at 0x241fad0d7b8>"
      ]
     },
     "metadata": {},
     "output_type": "display_data"
    }
   ],
   "source": [
    "import matplotlib.pyplot as plt\n",
    "%matplotlib inline\n",
    "\n",
    "tot_brew_state = df.groupby('Location')['b_per_capita'].sum().sort_values()\n",
    "tot_brew_state.plot(figsize = (15, 6), kind='bar', colormap = 'summer', title='Breweries Per Capita (2016)')\n",
    "plt.margins(x=0)"
   ]
  },
  {
   "cell_type": "markdown",
   "metadata": {},
   "source": [
    "Geographic distribution of BPC "
   ]
  },
  {
   "cell_type": "code",
   "execution_count": 71,
   "metadata": {
    "scrolled": false
   },
   "outputs": [
    {
     "data": {
      "text/html": [
       "<script>requirejs.config({paths: { 'plotly': ['https://cdn.plot.ly/plotly-latest.min']},});if(!window.Plotly) {{require(['plotly'],function(plotly) {window.Plotly=plotly;});}}</script>"
      ],
      "text/vnd.plotly.v1+html": [
       "<script>requirejs.config({paths: { 'plotly': ['https://cdn.plot.ly/plotly-latest.min']},});if(!window.Plotly) {{require(['plotly'],function(plotly) {window.Plotly=plotly;});}}</script>"
      ]
     },
     "metadata": {},
     "output_type": "display_data"
    },
    {
     "data": {
      "application/vnd.plotly.v1+json": {
       "data": [
        {
         "autocolorscale": true,
         "colorbar": {
          "title": "Breweries Per Capita"
         },
         "locationmode": "USA-states",
         "locations": [
          "AK",
          "AL",
          "AR",
          "AZ",
          "CA",
          "CO",
          "CT",
          "DC",
          "DE",
          "FL",
          "GA",
          "HI",
          "IA",
          "ID",
          "IL",
          "IN",
          "KS",
          "KY",
          "LA",
          "MA",
          "MD",
          "ME",
          "MI",
          "MN",
          "MO",
          "MS",
          "MT",
          "NC",
          "ND",
          "NE",
          "NH",
          "NJ",
          "NM",
          "NV",
          "NY",
          "OH",
          "OK",
          "OR",
          "PA",
          "RI",
          "SC",
          "SD",
          "TN",
          "TX",
          "UT",
          "VA",
          "VT",
          "WA",
          "WI",
          "WV",
          "WY"
         ],
         "marker": {
          "line": {
           "color": "white",
           "width": 1
          }
         },
         "type": "choropleth",
         "z": [
          7.068525427056744,
          1.0055987389248249,
          1.5427897268354658,
          2.1256860168508926,
          3.1412335186898317,
          9.209553121943072,
          2.7472527472527477,
          2.3301666965405987,
          3.4087810199072814,
          1.640209996582896,
          0.906094470197371,
          2.1435228331780056,
          4.0001702200093625,
          5.5569378784108805,
          2.552514854799565,
          3.3894075814601483,
          2.235540334855404,
          1.8268733063362057,
          0.9991771482308688,
          2.754716981132076,
          1.95364532457153,
          9.714285714285714,
          4.978522731750889,
          4.069953873856096,
          2.630325842951407,
          0.6421429226676452,
          9.944612286002014,
          3.4127004961541494,
          2.6704646608509885,
          3.4161942142753308,
          7.053821625277804,
          1.4169950847982995,
          5.6474914630943,
          1.986904493113569,
          2.6118660921445147,
          2.719865389712916,
          0.8971085501345663,
          9.508022393894848,
          3.4253268461277346,
          2.03057811753464,
          1.5838075808010308,
          3.3535611625678694,
          1.9710778478171775,
          1.3335739782617415,
          1.6065016065016064,
          3.3919761101012726,
          14.861563517915311,
          7.603471773904312,
          4.965675057208238,
          1.695034960096052,
          7.8740157480314945
         ]
        }
       ],
       "layout": {
        "geo": {
         "projection": {
          "type": "albers usa"
         },
         "scope": "usa",
         "showlakes": false
        },
        "title": "Breweries Per Capita (2016)"
       }
      },
      "text/html": [
       "<div id=\"cd9d9620-f360-49ea-9660-e0467ec54b08\" style=\"height: 525px; width: 100%;\" class=\"plotly-graph-div\"></div><script type=\"text/javascript\">require([\"plotly\"], function(Plotly) { window.PLOTLYENV=window.PLOTLYENV || {};window.PLOTLYENV.BASE_URL=\"https://plot.ly\";Plotly.newPlot(\"cd9d9620-f360-49ea-9660-e0467ec54b08\", [{\"type\": \"choropleth\", \"autocolorscale\": true, \"locations\": [\"AK\", \"AL\", \"AR\", \"AZ\", \"CA\", \"CO\", \"CT\", \"DC\", \"DE\", \"FL\", \"GA\", \"HI\", \"IA\", \"ID\", \"IL\", \"IN\", \"KS\", \"KY\", \"LA\", \"MA\", \"MD\", \"ME\", \"MI\", \"MN\", \"MO\", \"MS\", \"MT\", \"NC\", \"ND\", \"NE\", \"NH\", \"NJ\", \"NM\", \"NV\", \"NY\", \"OH\", \"OK\", \"OR\", \"PA\", \"RI\", \"SC\", \"SD\", \"TN\", \"TX\", \"UT\", \"VA\", \"VT\", \"WA\", \"WI\", \"WV\", \"WY\"], \"z\": [7.068525427056744, 1.0055987389248249, 1.5427897268354658, 2.1256860168508926, 3.1412335186898317, 9.209553121943072, 2.7472527472527477, 2.3301666965405987, 3.4087810199072814, 1.640209996582896, 0.906094470197371, 2.1435228331780056, 4.0001702200093625, 5.5569378784108805, 2.552514854799565, 3.3894075814601483, 2.235540334855404, 1.8268733063362057, 0.9991771482308688, 2.754716981132076, 1.95364532457153, 9.714285714285714, 4.978522731750889, 4.069953873856096, 2.630325842951407, 0.6421429226676452, 9.944612286002014, 3.4127004961541494, 2.6704646608509885, 3.4161942142753308, 7.053821625277804, 1.4169950847982995, 5.6474914630943, 1.986904493113569, 2.6118660921445147, 2.719865389712916, 0.8971085501345663, 9.508022393894848, 3.4253268461277346, 2.03057811753464, 1.5838075808010308, 3.3535611625678694, 1.9710778478171775, 1.3335739782617415, 1.6065016065016064, 3.3919761101012726, 14.861563517915311, 7.603471773904312, 4.965675057208238, 1.695034960096052, 7.8740157480314945], \"locationmode\": \"USA-states\", \"marker\": {\"line\": {\"color\": \"white\", \"width\": 1}}, \"colorbar\": {\"title\": \"Breweries Per Capita\"}}], {\"title\": \"Breweries Per Capita (2016)\", \"geo\": {\"scope\": \"usa\", \"projection\": {\"type\": \"albers usa\"}, \"showlakes\": false}}, {\"showLink\": true, \"linkText\": \"Export to plot.ly\"})});</script>"
      ],
      "text/vnd.plotly.v1+html": [
       "<div id=\"cd9d9620-f360-49ea-9660-e0467ec54b08\" style=\"height: 525px; width: 100%;\" class=\"plotly-graph-div\"></div><script type=\"text/javascript\">require([\"plotly\"], function(Plotly) { window.PLOTLYENV=window.PLOTLYENV || {};window.PLOTLYENV.BASE_URL=\"https://plot.ly\";Plotly.newPlot(\"cd9d9620-f360-49ea-9660-e0467ec54b08\", [{\"type\": \"choropleth\", \"autocolorscale\": true, \"locations\": [\"AK\", \"AL\", \"AR\", \"AZ\", \"CA\", \"CO\", \"CT\", \"DC\", \"DE\", \"FL\", \"GA\", \"HI\", \"IA\", \"ID\", \"IL\", \"IN\", \"KS\", \"KY\", \"LA\", \"MA\", \"MD\", \"ME\", \"MI\", \"MN\", \"MO\", \"MS\", \"MT\", \"NC\", \"ND\", \"NE\", \"NH\", \"NJ\", \"NM\", \"NV\", \"NY\", \"OH\", \"OK\", \"OR\", \"PA\", \"RI\", \"SC\", \"SD\", \"TN\", \"TX\", \"UT\", \"VA\", \"VT\", \"WA\", \"WI\", \"WV\", \"WY\"], \"z\": [7.068525427056744, 1.0055987389248249, 1.5427897268354658, 2.1256860168508926, 3.1412335186898317, 9.209553121943072, 2.7472527472527477, 2.3301666965405987, 3.4087810199072814, 1.640209996582896, 0.906094470197371, 2.1435228331780056, 4.0001702200093625, 5.5569378784108805, 2.552514854799565, 3.3894075814601483, 2.235540334855404, 1.8268733063362057, 0.9991771482308688, 2.754716981132076, 1.95364532457153, 9.714285714285714, 4.978522731750889, 4.069953873856096, 2.630325842951407, 0.6421429226676452, 9.944612286002014, 3.4127004961541494, 2.6704646608509885, 3.4161942142753308, 7.053821625277804, 1.4169950847982995, 5.6474914630943, 1.986904493113569, 2.6118660921445147, 2.719865389712916, 0.8971085501345663, 9.508022393894848, 3.4253268461277346, 2.03057811753464, 1.5838075808010308, 3.3535611625678694, 1.9710778478171775, 1.3335739782617415, 1.6065016065016064, 3.3919761101012726, 14.861563517915311, 7.603471773904312, 4.965675057208238, 1.695034960096052, 7.8740157480314945], \"locationmode\": \"USA-states\", \"marker\": {\"line\": {\"color\": \"white\", \"width\": 1}}, \"colorbar\": {\"title\": \"Breweries Per Capita\"}}], {\"title\": \"Breweries Per Capita (2016)\", \"geo\": {\"scope\": \"usa\", \"projection\": {\"type\": \"albers usa\"}, \"showlakes\": false}}, {\"showLink\": true, \"linkText\": \"Export to plot.ly\"})});</script>"
      ]
     },
     "metadata": {},
     "output_type": "display_data"
    }
   ],
   "source": [
    "import plotly as py\n",
    "import plotly.graph_objs as go\n",
    "from IPython.display import HTML\n",
    "from plotly.offline import download_plotlyjs, init_notebook_mode, plot, iplot\n",
    "init_notebook_mode(connected=True)\n",
    "\n",
    "data = [ dict(type='choropleth', autocolorscale = True, locations = df['Location'],\n",
    "        z = df['b_per_capita'].astype(float), locationmode = 'USA-states',\n",
    "        marker = dict (line = dict (color = 'white', width = 1)),\n",
    "        colorbar = dict (title = 'Breweries Per Capita')\n",
    "        ) ]\n",
    "\n",
    "layout = dict(title = 'Breweries Per Capita (2016)',\n",
    "        geo = dict(scope='usa',projection=dict(type='albers usa' ),showlakes = False),\n",
    "             )\n",
    "    \n",
    "fig = dict(data=data, layout=layout )\n",
    "py.offline.iplot(fig)"
   ]
  },
  {
   "cell_type": "code",
   "execution_count": 83,
   "metadata": {},
   "outputs": [
    {
     "data": {
      "image/png": "[encoded data removed]",
      "text/plain": [
       "<IPython.core.display.Image object>"
      ]
     },
     "execution_count": 83,
     "metadata": {},
     "output_type": "execute_result"
    }
   ],
   "source": [
    "#Including an image so it can display in a static html\n",
    "from IPython.display import Image\n",
    "Image('bpc_by_state_map.png')"
   ]
  },
  {
   "cell_type": "markdown",
   "metadata": {},
   "source": [
    "The states with the highest BPC in 2016 are concentrated in northern New England,\n",
    " the Pacific Northwest + Alaska, and some western/southwestern states\n",
    "\n",
    "The states with the lowest BPC are in the south"
   ]
  },
  {
   "cell_type": "markdown",
   "metadata": {},
   "source": [
    "Histogram and boxplot of BPC by state"
   ]
  },
  {
   "cell_type": "code",
   "execution_count": 72,
   "metadata": {},
   "outputs": [
    {
     "data": {
      "image/png": "[encoded data removed]",
      "text/plain": [
       "<matplotlib.figure.Figure at 0x241f8be5ef0>"
      ]
     },
     "metadata": {},
     "output_type": "display_data"
    }
   ],
   "source": [
    "x = df['b_per_capita']\n",
    "fig, axs = plt.subplots(1, 2, figsize=(16,7))\n",
    "plt.suptitle('Distribution by State - Breweries Per Capita (2016)', fontsize=16)\n",
    "axs[0].hist(x, bins=12, color=\"#685e77\")\n",
    "axs[1].boxplot(x,notch=0, whis=1.5, sym='k.')\n",
    "plt.margins(x=0)"
   ]
  },
  {
   "cell_type": "markdown",
   "metadata": {},
   "source": [
    "The distribution of BPC has a long right tail with the median closer to the first quartile\n",
    "\n",
    "Vermont is the outlier here. I know it's not a data entry mistake and it's not too extrreme so I'll leave it in"
   ]
  },
  {
   "cell_type": "markdown",
   "metadata": {},
   "source": [
    "Looking to see which independent  variables are correlated with our dependent variable of BPC"
   ]
  },
  {
   "cell_type": "code",
   "execution_count": 73,
   "metadata": {},
   "outputs": [
    {
     "data": {
      "text/plain": [
       "b_per_capita           1.000\n",
       "craft_gal_per_adult    0.746\n",
       "white                  0.429\n",
       "adults_55_64           0.324\n",
       "adults_over_65         0.267\n",
       "median_hhi             0.243\n",
       "two_or_more_r          0.148\n",
       "adults_35_54           0.076\n",
       "craft_barr_produced    0.070\n",
       "amer_ind_ak            0.048\n",
       "nat_haw_pac_is        -0.058\n",
       "asian                 -0.126\n",
       "hispanic              -0.127\n",
       "adults_19_25          -0.187\n",
       "adults_26_34          -0.197\n",
       "kids_0_18             -0.218\n",
       "black                 -0.503\n",
       "Name: b_per_capita, dtype: float64"
      ]
     },
     "execution_count": 73,
     "metadata": {},
     "output_type": "execute_result"
    }
   ],
   "source": [
    "corr = df.corr()\n",
    "corr['b_per_capita'].sort_values(ascending = False)"
   ]
  },
  {
   "cell_type": "markdown",
   "metadata": {},
   "source": [
    "Craft gallons consumed per adult has the highest correlation with breweries per capita. This really shows how much the growth of breweries in this country is due to the growth in craft beer. Not terribly surprising but interesting nonetheless.\n",
    "\n",
    "Surprisingly, the number of barrels of craft beer produced isn't correlated with BPC at all.  A barrel is equal to 31.5 us gallons. Not shown here but Pennsylvania is the leader at 3.9MM bbls produced in 2016 but only 16th for BPC. The main reason for this is that the Breweries Association classifies Yeungling (which is in PA) as a craft brewery. In 2012, they produced 2.8MM bbls alone and most would not consider them as a craft brewery. For our purposes we won't be using that metric since the classification isn't great.\n",
    "\n",
    "The variables of 'white', 'A55-64' and 'hhi' are the next strongest positive predictors of the BPC for a state so we'll\n",
    "concentrate on those along with craft gallons consumed.\n",
    "\n",
    "In terms of race, 'black' also has a strong negative correlation to BPC it's also most likely correlated with 'white' so we wouldn't want to include both as independent variables. We'll check for collinearity next and if that's the case we'll try both separately in our model to see which works best."
   ]
  },
  {
   "cell_type": "markdown",
   "metadata": {},
   "source": [
    "Now that I have some independent variables I'll check them for collinearity"
   ]
  },
  {
   "cell_type": "code",
   "execution_count": 74,
   "metadata": {},
   "outputs": [
    {
     "data": {
      "image/png": "[encoded data removed]",
      "text/plain": [
       "<matplotlib.figure.Figure at 0x241f5aafeb8>"
      ]
     },
     "metadata": {},
     "output_type": "display_data"
    }
   ],
   "source": [
    "import seaborn as sns\n",
    "df_select = df[['white', 'black', 'adults_55_64', 'median_hhi', 'craft_gal_per_adult']].corr()\n",
    "tick = df_select.columns.values\n",
    "fig, axs = plt.subplots(figsize=(9, 7))\n",
    "sns.heatmap(df_select, xticklabels=tick, yticklabels=tick, cmap ='terrain_r', vmin=-1, vmax=1)\n",
    "plt.title('Correlation Matrix Heatmap', fontsize=14)\n",
    "plt.margins(x=0)"
   ]
  },
  {
   "cell_type": "code",
   "execution_count": 75,
   "metadata": {},
   "outputs": [
    {
     "data": {
      "text/html": [
       "<div>\n",
       "<style>\n",
       "    .dataframe thead tr:only-child th {\n",
       "        text-align: right;\n",
       "    }\n",
       "\n",
       "    .dataframe thead th {\n",
       "        text-align: left;\n",
       "    }\n",
       "\n",
       "    .dataframe tbody tr th {\n",
       "        vertical-align: top;\n",
       "    }\n",
       "</style>\n",
       "<table border=\"1\" class=\"dataframe\">\n",
       "  <thead>\n",
       "    <tr style=\"text-align: right;\">\n",
       "      <th></th>\n",
       "      <th>white</th>\n",
       "      <th>black</th>\n",
       "      <th>adults_55_64</th>\n",
       "      <th>median_hhi</th>\n",
       "      <th>craft_gal_per_adult</th>\n",
       "    </tr>\n",
       "  </thead>\n",
       "  <tbody>\n",
       "    <tr>\n",
       "      <th>white</th>\n",
       "      <td>1.000</td>\n",
       "      <td>-0.446</td>\n",
       "      <td>0.340</td>\n",
       "      <td>-0.165</td>\n",
       "      <td>0.237</td>\n",
       "    </tr>\n",
       "    <tr>\n",
       "      <th>black</th>\n",
       "      <td>-0.446</td>\n",
       "      <td>1.000</td>\n",
       "      <td>-0.204</td>\n",
       "      <td>-0.228</td>\n",
       "      <td>-0.242</td>\n",
       "    </tr>\n",
       "    <tr>\n",
       "      <th>adults_55_64</th>\n",
       "      <td>0.340</td>\n",
       "      <td>-0.204</td>\n",
       "      <td>1.000</td>\n",
       "      <td>-0.083</td>\n",
       "      <td>0.247</td>\n",
       "    </tr>\n",
       "    <tr>\n",
       "      <th>median_hhi</th>\n",
       "      <td>-0.165</td>\n",
       "      <td>-0.228</td>\n",
       "      <td>-0.083</td>\n",
       "      <td>1.000</td>\n",
       "      <td>0.211</td>\n",
       "    </tr>\n",
       "    <tr>\n",
       "      <th>craft_gal_per_adult</th>\n",
       "      <td>0.237</td>\n",
       "      <td>-0.242</td>\n",
       "      <td>0.247</td>\n",
       "      <td>0.211</td>\n",
       "      <td>1.000</td>\n",
       "    </tr>\n",
       "  </tbody>\n",
       "</table>\n",
       "</div>"
      ],
      "text/plain": [
       "                     white  black  adults_55_64  median_hhi  \\\n",
       "white                1.000 -0.446         0.340      -0.165   \n",
       "black               -0.446  1.000        -0.204      -0.228   \n",
       "adults_55_64         0.340 -0.204         1.000      -0.083   \n",
       "median_hhi          -0.165 -0.228        -0.083       1.000   \n",
       "craft_gal_per_adult  0.237 -0.242         0.247       0.211   \n",
       "\n",
       "                     craft_gal_per_adult  \n",
       "white                              0.237  \n",
       "black                             -0.242  \n",
       "adults_55_64                       0.247  \n",
       "median_hhi                         0.211  \n",
       "craft_gal_per_adult                1.000  "
      ]
     },
     "execution_count": 75,
     "metadata": {},
     "output_type": "execute_result"
    }
   ],
   "source": [
    "df[['white', 'black', 'adults_55_64', 'median_hhi', 'craft_gal_per_adult']].corr()"
   ]
  },
  {
   "cell_type": "markdown",
   "metadata": {},
   "source": [
    "'white' and 'black' are highly correlated with each other so we'll choose only one to include in our model. I'll define two sets of dependent variables, one with 'white' and one whith 'black'. I'll use cross validation to select the best one and then split the data into a training and test set."
   ]
  },
  {
   "cell_type": "markdown",
   "metadata": {},
   "source": [
    "Vizualizing the linear relationship between BPC and the dependent variables"
   ]
  },
  {
   "cell_type": "code",
   "execution_count": 76,
   "metadata": {},
   "outputs": [
    {
     "data": {
      "image/png": "[encoded data removed]",
      "text/plain": [
       "<matplotlib.figure.Figure at 0x241f9104518>"
      ]
     },
     "metadata": {},
     "output_type": "display_data"
    }
   ],
   "source": [
    "sns.pairplot(df, x_vars=['white', 'black', 'adults_55_64', 'median_hhi', 'craft_gal_per_adult'], y_vars=[\"b_per_capita\"], \n",
    "             kind = 'reg', size=4.75, aspect=.85)\n",
    "plt.margins(x=0)"
   ]
  },
  {
   "cell_type": "markdown",
   "metadata": {},
   "source": [
    "For the most part, the independent variables have a linear relationship with BPC.\n",
    "\n",
    "At this point, I'm ready to split the data into training and testing sets. We'll do three different groups of independent variables and then use the average of 10 cross validation scores to select the best combo."
   ]
  },
  {
   "cell_type": "code",
   "execution_count": 77,
   "metadata": {},
   "outputs": [],
   "source": [
    "from sklearn.model_selection import train_test_split\n",
    "\n",
    "X = df[['white', 'adults_55_64', 'median_hhi', 'craft_gal_per_adult']]\n",
    "X2 = df[['black', 'adults_55_64', 'median_hhi', 'craft_gal_per_adult']]\n",
    "X3 = df[['white', 'median_hhi', 'craft_gal_per_adult']]\n",
    "y = df['b_per_capita']\n",
    "\n",
    "X_train_w, X_test_w, y_train, y_test = train_test_split(X, y, test_size=0.25, random_state=42)\n",
    "X_train_b, X_test_b, y_train, y_test = train_test_split(X2, y, test_size=0.25, random_state=42)\n",
    "X_train_a, X_test_a, y_train, y_test = train_test_split(X3, y, test_size=0.25, random_state=42)"
   ]
  },
  {
   "cell_type": "code",
   "execution_count": 78,
   "metadata": {},
   "outputs": [
    {
     "name": "stdout",
     "output_type": "stream",
     "text": [
      "with white:                       1.91894736467\n",
      "with black:                       2.07259049738\n",
      "with white and without age_55_64: 1.82840069964\n"
     ]
    }
   ],
   "source": [
    "from sklearn.model_selection import cross_val_score\n",
    "from sklearn import linear_model\n",
    "import numpy as np\n",
    "\n",
    "lin = linear_model.LinearRegression()\n",
    "\n",
    "score_w = np.sqrt(-cross_val_score(lin, X_train_w, y_train, cv=10, scoring = 'neg_mean_squared_error')).mean()\n",
    "score_b = np.sqrt(-cross_val_score(lin, X_train_b, y_train, cv=10, scoring = 'neg_mean_squared_error')).mean()\n",
    "score_a = np.sqrt(-cross_val_score(lin, X_train_a, y_train, cv=10, scoring = 'neg_mean_squared_error')).mean()\n",
    "\n",
    "print('with white:                      ', score_w)\n",
    "print('with black:                      ', score_b)\n",
    "print('with white and without age_55_64:', score_a)"
   ]
  },
  {
   "cell_type": "markdown",
   "metadata": {},
   "source": [
    "The score for the set of dependent variables with 'black' was higher and thus performed worse than the set with\n",
    "'white' so we'll use that feature instead.\n",
    "\n",
    "I'll fit a linear regression model to our training data now to see how it performs using RMSE, adjusted r-squared and r-squared. Before that though I need scale the dependent variables since they have much different ranges for the values. I'll remove the mean and scale to a unit variance on the training data now and on the test data later."
   ]
  },
  {
   "cell_type": "code",
   "execution_count": 79,
   "metadata": {},
   "outputs": [
    {
     "name": "stdout",
     "output_type": "stream",
     "text": [
      "[[ 0.84363739  1.96015111  1.29788622 -0.28349087]\n",
      " [ 0.77157044 -0.24500557  0.69453069  0.71706515]\n",
      " [-1.76439859 -0.56174665  0.29971065  1.55086183]\n",
      " [ 0.60785127 -0.81862517 -1.387277   -1.11728755]\n",
      " [-0.45866052 -0.33477373 -0.90485056 -0.86714855]]\n"
     ]
    }
   ],
   "source": [
    "from sklearn.preprocessing import StandardScaler\n",
    "\n",
    "scaler = StandardScaler()\n",
    "print(scaler.fit_transform(X_train_w[:5]))"
   ]
  },
  {
   "cell_type": "code",
   "execution_count": 80,
   "metadata": {},
   "outputs": [
    {
     "name": "stdout",
     "output_type": "stream",
     "text": [
      "Train RMSE:   1.67330078593\n",
      "Train r2:     0.59811198324\n",
      "Train Adj r2: 0.562651275879\n"
     ]
    }
   ],
   "source": [
    "from sklearn.metrics import mean_squared_error\n",
    "from sklearn import metrics\n",
    "from sklearn.metrics import r2_score\n",
    "\n",
    "def adj_r2_score(model, y, yhat):\n",
    "        adj = 1 - float(len(y)-1)/(len(y)-len(model.coef_)-1)*(1 - metrics.r2_score(y,yhat))\n",
    "        return adj\n",
    "\n",
    "lin_model_train = lin.fit(X_train_a, y_train)\n",
    "bpc_predict_train = lin.predict(X_train_a)\n",
    "lin_mse_train = mean_squared_error(y_train, bpc_predict_train)\n",
    "lin_rmse_train = np.sqrt(lin_mse_train)\n",
    "\n",
    "print(\"Train RMSE:  \", lin_rmse_train)\n",
    "print('Train r2:    ', r2_score(y_train, bpc_predict_train))\n",
    "print(\"Train Adj r2:\", adj_r2_score(lin, y_train, bpc_predict_train))"
   ]
  },
  {
   "cell_type": "code",
   "execution_count": 81,
   "metadata": {},
   "outputs": [
    {
     "name": "stdout",
     "output_type": "stream",
     "text": [
      "Test RMSE:   1.86381720103\n",
      "Test r2:     0.730762121353\n",
      "Test Adj r2: 0.641016161804\n"
     ]
    }
   ],
   "source": [
    "scaler.fit_transform(X_test_a) #Scaling the training data\n",
    "\n",
    "lin_model_test = lin.fit(X_test_a, y_test)\n",
    "bpc_predict_test = lin.predict(X_test_a)\n",
    "lin_mse_test = mean_squared_error(y_test, bpc_predict_test)\n",
    "lin_rmse_test = np.sqrt(lin_mse_test)\n",
    "\n",
    "print('Test RMSE:  ', lin_rmse_test)\n",
    "print('Test r2:    ', r2_score(y_test, bpc_predict_test))\n",
    "print(\"Test Adj r2:\", adj_r2_score(lin, y_test, bpc_predict_test))"
   ]
  },
  {
   "cell_type": "markdown",
   "metadata": {},
   "source": [
    "For the training data we had an adjusted r-squared of .56, meaning 56% of the variance of BPC can be explained by our model.\n",
    "\n",
    "The testing data actually performed a little better in terms of adjusted r-squared at 64% but a little worse for RMSE which was higher at 1.86 compared to 1.67. "
   ]
  },
  {
   "cell_type": "markdown",
   "metadata": {},
   "source": [
    "### Conclusions:\n",
    "Our linear model needs some work. An adjusted r-squared of 56% on the training data isn't great. We can try a few things to improve this as next steps:\n",
    "\n",
    "1. Try and see how stratifying our sample does for the training and testing data. We have a small set of observations at 51 and given the fact that the testing data actually performed better than the training data means that the two samples are not the same\n",
    "2. Increase the number of observations. Including additional years would give us more data\n",
    "3. Try additional independent variables. We could have some underfitting going on as well so trying out some different kinds of independent variables would also be a good idea\n",
    "4. Try and take the log of the independent variable to approximate a more normal distribution. The histogram and boxplot showed that the it had a long right tail\n",
    "5. Try different models"
   ]
  }
 ],
 "metadata": {
  "kernelspec": {
   "display_name": "Python 3",
   "language": "python",
   "name": "python3"
  },
  "language_info": {
   "codemirror_mode": {
    "name": "ipython",
    "version": 3
   },
   "file_extension": ".py",
   "mimetype": "text/x-python",
   "name": "python",
   "nbconvert_exporter": "python",
   "pygments_lexer": "ipython3",
   "version": "3.6.3"
  }
 },
 "nbformat": 4,
 "nbformat_minor": 2
}
