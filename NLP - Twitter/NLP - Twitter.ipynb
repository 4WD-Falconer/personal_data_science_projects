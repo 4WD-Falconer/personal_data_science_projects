{
 "cells": [
  {
   "cell_type": "markdown",
   "metadata": {},
   "source": [
    "### Work In Progress"
   ]
  },
  {
   "cell_type": "code",
   "execution_count": 2,
   "metadata": {},
   "outputs": [],
   "source": [
    "import tweepy\n",
    "import nltk\n",
    "from nltk.tokenize import TweetTokenizer\n",
    "from nltk.corpus import stopwords\n",
    "import re\n",
    "import string\n",
    "#nltk.download('stopwords')\n",
    "\n",
    "consumer_key = ''\n",
    "consumer_secret = ''\n",
    "access_token = ''\n",
    "access_token_secret = ''\n",
    "\n",
    "auth = tweepy.OAuthHandler(consumer_key, consumer_secret)\n",
    "auth.set_access_token(access_token, access_token_secret)\n",
    "api = tweepy.API(auth, wait_on_rate_limit=True)"
   ]
  },
  {
   "cell_type": "markdown",
   "metadata": {},
   "source": [
    "Original tweets"
   ]
  },
  {
   "cell_type": "code",
   "execution_count": 22,
   "metadata": {},
   "outputs": [
    {
     "data": {
      "text/plain": [
       "['Brewing Solutions, by TERMOINOX® https://t.co/ZjZnJKy1Pj _ #brewing #cervejaartesanal #craftbeer #brewery… https://t.co/g2RgzbyiOY',\n",
       " 'RT @BeertodayBT: 🎙NEW #btbt #podcast #episode Alert!\\nWe hang with one of Queens Finest breweries @FifthHammerBeer to talk about the genesis…',\n",
       " 'Cloudwater Tap Takeover Time! 🎉👌👀🍺 #cloudwater #taptakeover #beer #craftbeer #IPA #DIPA #TIPA #IPL #DDH #BBC… https://t.co/7IKJ3g4Lcr',\n",
       " 'Danny Burke live tonight from 8pm! #livemusic #local #singersongwriter #Kilkenny #gig #Craftbeer https://t.co/mDyhXKcFYD',\n",
       " 'RT @BeertodayBT: 🎙NEW #btbt #podcast #episode Alert!\\nWe hang with one of Queens Finest breweries @FifthHammerBeer to talk about the genesis…',\n",
       " \"RT @zappafaye: I went shopping tonight and couldn't be happier. @ArtifactBeer is amazeballs 😍😍 #craftbeer #ohiobeer  🍻\\n@badhopper @JacobGri…\",\n",
       " 'RT @IndyCraftBrew: Fresh Local Indiana Craft Beer \\n👉@18thStreetBrew \\n\\nBait and Click review over at \\n\\n👉 @moskihomebrew \\n\\n🍺#indianacraftbeer…',\n",
       " '🎙NEW #btbt #podcast #episode Alert!\\nWe hang with one of Queens Finest breweries @FifthHammerBeer to talk about the… https://t.co/lCDJR77Muq',\n",
       " 'Pie and Ale week is happening. Stop by for a tasty Pie and a Pint #5west #craftbeer #pieandale… https://t.co/H7D0FEp0I8',\n",
       " 'Belgophilia Unlocked https://t.co/FZkdzYFLo5 https://t.co/Y1d5a1v6xE']"
      ]
     },
     "execution_count": 22,
     "metadata": {},
     "output_type": "execute_result"
    }
   ],
   "source": [
    "searched_tweets = [tweet for tweet in tweepy.Cursor(api.search, q='craftbeer', lang='en').items(10)]\n",
    "orig_tweets = [w.text for w in searched_tweets]\n",
    "orig_tweets"
   ]
  },
  {
   "cell_type": "markdown",
   "metadata": {},
   "source": [
    "Function to get cleaned up text"
   ]
  },
  {
   "cell_type": "code",
   "execution_count": 21,
   "metadata": {
    "collapsed": true
   },
   "outputs": [],
   "source": [
    "def get_clean_tweets(query, max_tweets):\n",
    "    searched_tweets = [tweet for tweet in tweepy.Cursor(api.search, q=query, lang='en').items(max_tweets)]\n",
    "    clean_tweets = []\n",
    "    \n",
    "    for tweet in searched_tweets:\n",
    "        tweet_text = tweet.text\n",
    "        lower = tweet_text.lower()\n",
    "        link = re.sub(r'https\\S+', ' ', lower)\n",
    "        punc = re.sub(r\"[,.:;'\\\"’“”#@%-?!&$]+\\ *\", ' ', link)\n",
    "        misc = re.sub('rt|…|amp', ' ', punc)\n",
    "        pattern = re.compile(r\"(.)\\1{2,}\")\n",
    "        reduce_leng = pattern.sub(r\"\\1\\1\", misc)\n",
    "        emoji_pattern = re.compile(\"[\"\n",
    "                           u\"\\U0001F600-\\U0001F64F\" \n",
    "                           u\"\\U0001F300-\\U0001F5FF\"  \n",
    "                           u\"\\U0001F680-\\U0001F6FF\"  \n",
    "                           u\"\\U0001F1E0-\\U0001F1FF\"  \n",
    "                           u\"\\U00002702-\\U000027B0\"\n",
    "                           u\"\\U000024C2-\\U0001F251\"\n",
    "                           u\"\\U0001F900-\\U0001F999\"    \n",
    "                           \"]+\", flags=re.UNICODE)\n",
    "        emoji = emoji_pattern.sub(r'', reduce_leng)\n",
    "        tokenizer = TweetTokenizer()\n",
    "        tokens = tokenizer.tokenize(emoji) \n",
    "        stop_words = [w for w in tokens if not w in stopwords.words('english')]\n",
    "        clean_tweets.append(stop_words)\n",
    "    return clean_tweets"
   ]
  },
  {
   "cell_type": "code",
   "execution_count": 23,
   "metadata": {},
   "outputs": [
    {
     "name": "stdout",
     "output_type": "stream",
     "text": [
      "[['brewing', 'solutions', 'termoinox', '®', '_', 'brewing', 'cervejaa', 'esanal', 'craftbeer', 'brewery'], ['bee', 'odaybt', 'new', 'btbt', 'podcast', 'episode', 'ale', 'hang', 'one', 'queens', 'finest', 'breweries', 'fifthhammerbeer', 'talk', 'genesis'], ['cloudwater', 'tap', 'takeover', 'time', 'cloudwater', 'taptakeover', 'beer', 'craftbeer', 'ipa', 'dipa', 'tipa', 'ipl', 'ddh', 'bbc'], ['danny', 'burke', 'live', 'tonight', 'pm', 'livemusic', 'local', 'singersongwriter', 'kilkenny', 'gig', 'craftbeer'], ['bee', 'odaybt', 'new', 'btbt', 'podcast', 'episode', 'ale', 'hang', 'one', 'queens', 'finest', 'breweries', 'fifthhammerbeer', 'talk', 'genesis'], ['zappafaye', 'went', 'shopping', 'tonight', 'happier', 'ifactbeer', 'amazeballs', 'craftbeer', 'ohiobeer', 'badhopper', 'jacobgri'], ['indycraftbrew', 'fresh', 'local', 'indiana', 'craft', 'beer', 'thstreetbrew', 'bait', 'click', 'review', 'moskihomebrew', 'indianacraftbeer'], ['new', 'btbt', 'podcast', 'episode', 'ale', 'hang', 'one', 'queens', 'finest', 'breweries', 'fifthhammerbeer', 'talk'], ['pie', 'ale', 'week', 'happening', 'stop', 'tasty', 'pie', 'pint', 'west', 'craftbeer', 'pieandale'], ['belgophilia', 'unlocked'], ['hopsandbranding', 'craft', 'law', 'stonebrewing', 'releases', 'statement', 'regarding', 'millercoors', 'lawsuit', 'craftbeer'], ['craft', 'law', 'stonebrewing', 'releases', 'statement', 'regarding', 'millercoors', 'lawsuit', 'craftbeer'], ['hour', 'kill', 'heathrow', 'flight', 'figure', 'good', 'way', 'spend', 'craftbeer', 'punkipa'], ['zappafaye', 'went', 'shopping', 'tonight', 'happier', 'ifactbeer', 'amazeballs', 'craftbeer', 'ohiobeer', 'badhopper', 'jacobgri'], ['japanbee', 'imes', 'japan', 'beer', 'times', 'magazine', 'bilingual', 'ships', 'worldwide', 'live', 'overseas', 'would', 'like', 'subscribe'], ['thefalcontap', 'thursday', 'night', 'curry', 'night', '\\U0001f9e1', 'tonight', 'pm', 'cu', 'esy', 'nukkadfood', 'madeinyork', 'yorkcityofale', 'yorkfood', 'shambles_mar'], ['toptenwoodbury', 'announced', 'may', 'froth', 'free', 'craft', 'beer', 'tasting', 'paying', 'homage', 'greatest', 'films', 'ever', 'c'], ['midday', 'treats', 'cocovail', 'craftbeer', 'beer', 'cervezaa', 'esanal', 'barcelona', 'feelathome'], ['thanks', 'keithmcavoy', 'sevenbro', 'beer', 'tasting', 'session', 'last', 'night', 'sevenbro', 'mcr', 'thoroughly', 'enj'], ['ep', '|', 'dpcpo', 'er', 'available', 'fpwildside', '|', 'featuring', 'fullpintbrewing', '|', 'sponsored', 'ftt_pittsburgh', '|', 'podcast'], ['farsleypremier', 'stock', 'thursdays', 'cloudwaterbrew', 'mcr', 'dipa', 'citra', 'bbc', 'abv', 'tipa', 'citra', 'bbc', 'abv', 'ddh'], ['thursday', 'night', 'curry', 'night', '\\U0001f9e1', 'tonight', 'pm', 'cu', 'esy', 'nukkadfood', 'madeinyork', 'yorkcityofale', 'yorkfood'], ['finzels', 'reach', 'weeks', 'ago', 'first', 'time', 'trying', 'beer', 'lhgbrewingco'], ['lgd_micropub', 'thursday', 'beer', 'list', 'open', 'pm', 'till', 'pm', 'today', 'enfield', 'realale', 'micropub', 'n', 'winchmorehill', 'craftbeer', 'camra'], ['days', 'away', 'pilatesandpours', 'eightsandbeer', 'saturday', 'tickets', 'remain', 'beer']]\n"
     ]
    }
   ],
   "source": [
    "data = get_clean_tweets('craftbeer', 100)\n",
    "print(data[:25])"
   ]
  },
  {
   "cell_type": "markdown",
   "metadata": {},
   "source": [
    "Frequency of words"
   ]
  },
  {
   "cell_type": "code",
   "execution_count": 24,
   "metadata": {},
   "outputs": [
    {
     "data": {
      "text/plain": [
       "[('craftbeer', 47),\n",
       " ('beer', 28),\n",
       " ('craft', 14),\n",
       " ('new', 13),\n",
       " ('pm', 11),\n",
       " ('tonight', 7),\n",
       " ('review', 7),\n",
       " ('week', 7),\n",
       " ('bar', 7),\n",
       " ('caringtonarms', 7),\n",
       " ('open', 6),\n",
       " ('friday', 6),\n",
       " ('get', 6),\n",
       " ('another', 6),\n",
       " ('brewery', 5),\n",
       " ('episode', 5),\n",
       " ('bbc', 5),\n",
       " ('local', 5),\n",
       " ('like', 5),\n",
       " ('thursday', 5)]"
      ]
     },
     "execution_count": 24,
     "metadata": {},
     "output_type": "execute_result"
    }
   ],
   "source": [
    "import collections\n",
    "\n",
    "data = [item for sublist in data for item in sublist]\n",
    "counter=collections.Counter(data)\n",
    "sorted_words = sorted(counter.items(), key=lambda x:x[1], reverse=True)\n",
    "sorted_words[:20]"
   ]
  },
  {
   "cell_type": "markdown",
   "metadata": {},
   "source": [
    "Most common bigrams"
   ]
  },
  {
   "cell_type": "code",
   "execution_count": 27,
   "metadata": {},
   "outputs": [
    {
     "data": {
      "text/plain": [
       "[(('craft', 'beer'), 8),\n",
       " (('caringtonarms', 'usual'), 5),\n",
       " (('usual', 'fish'), 5),\n",
       " (('fish', 'chip'), 5),\n",
       " (('chip', 'deal'), 5),\n",
       " (('deal', 'friday'), 5),\n",
       " (('friday', 'evening'), 5),\n",
       " (('evening', 'craftbeer'), 5),\n",
       " (('craftbeer', 'batter'), 5),\n",
       " (('batter', 'handmade'), 5),\n",
       " (('handmade', 'chips'), 5),\n",
       " (('chips', 'nothing'), 5),\n",
       " (('nothing', 'fear'), 5),\n",
       " (('citra', 'bbc'), 4),\n",
       " (('bbc', 'abv'), 4)]"
      ]
     },
     "execution_count": 27,
     "metadata": {},
     "output_type": "execute_result"
    }
   ],
   "source": [
    "b_gram = nltk.bigrams(data)\n",
    "fdist = nltk.FreqDist(bgs)\n",
    "\n",
    "b_gram_sorted = sorted(fdist.items(), key=lambda x:x[1], reverse=True)\n",
    "b_gram_sorted[:15]"
   ]
  },
  {
   "cell_type": "code",
   "execution_count": null,
   "metadata": {
    "collapsed": true
   },
   "outputs": [],
   "source": []
  }
 ],
 "metadata": {
  "kernelspec": {
   "display_name": "Python 3",
   "language": "python",
   "name": "python3"
  },
  "language_info": {
   "codemirror_mode": {
    "name": "ipython",
    "version": 3
   },
   "file_extension": ".py",
   "mimetype": "text/x-python",
   "name": "python",
   "nbconvert_exporter": "python",
   "pygments_lexer": "ipython3",
   "version": "3.6.3"
  }
 },
 "nbformat": 4,
 "nbformat_minor": 2
}
